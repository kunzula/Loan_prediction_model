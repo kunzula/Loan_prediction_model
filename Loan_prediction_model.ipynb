{
 "cells": [
  {
   "cell_type": "markdown",
   "id": "8933ff2e-5f4d-4f6e-9f8d-da0fdfbc947f",
   "metadata": {},
   "source": [
    "# LOAN APPROVAL PREDICTION "
   ]
  },
  {
   "cell_type": "markdown",
   "id": "93ab19fc-ea51-4d68-9501-0a53099974b9",
   "metadata": {},
   "source": [
    "## Introduction\n",
    "In this project, I developed a classification model to predict whether a loan application will be approved or rejected. To improve accuracy, I used two popular machine learning algorithms: Logistic Regression and Support Vector Classifier (SVC). Logistic Regression provides a simple linear approach to model the relationship between input features (such as loan interest rate, persons income, and loan amount) and the loan status(target). On the other hand, SVC is more complex and capable of handling non-linear relationships by finding the optimal hyperplane that separates the two classes. By combining both models, I aimed to leverage their individual strengths and improve overall prediction performance. The models were evaluated based on metrics like accuracy, precision,recalland classification report to ensure robust and reliable loan predictions."
   ]
  },
  {
   "cell_type": "markdown",
   "id": "c4e8b03e-6665-49cc-a7e9-d86e71ac185a",
   "metadata": {},
   "source": [
    "## Environment Setup\n",
    "First, i will be importing some python libraries i will be working with for this project."
   ]
  },
  {
   "cell_type": "code",
   "execution_count": 1,
   "id": "107c4483-0c4a-40e8-a59b-acb480dc3bb3",
   "metadata": {
    "scrolled": true
   },
   "outputs": [],
   "source": [
    "import numpy as np  # transforms data to a 2day array to enable mathmatical operations on them\n",
    "import pandas as pd  # to load, read into the csv file , and perform data wangling operations\n",
    "import matplotlib.pyplot as plt  # for visualization of the data\n",
    "import seaborn as sns  # also for data visualization\n",
    "from sklearn.model_selection import train_test_split # used to slit data into test and train set\n",
    "from sklearn.preprocessing import StandardScaler  # used to transform our predictor variables to have a uniform range\n",
    "from sklearn.linear_model import LogisticRegression # first model used for the classification problem\n",
    "from sklearn.svm import SVC  # second model used for the classification problem\n",
    "from imblearn.over_sampling import SMOTE # used to handle imbalance in the dataset\n",
    "from sklearn.metrics import accuracy_score, classification_report, f1_score, precision_score, recall_score  # for accessing model performance\n",
    "from collections import Counter #to count the number of target variable (y) and the y after oversampling \n",
    "\n",
    "# Imported for sanity\n",
    "import warnings\n",
    "warnings.filterwarnings('ignore')\n"
   ]
  },
  {
   "cell_type": "markdown",
   "id": "de791c41-40bf-4844-974f-7b37ae2c0e89",
   "metadata": {},
   "source": [
    "## Loading and Exploring Data"
   ]
  },
  {
   "cell_type": "markdown",
   "id": "71f2e7d4-0d12-4021-b6a5-455513b4c089",
   "metadata": {},
   "source": [
    "The dataset is composed by 32581 rows (observations) and 12 columns (variables).\n",
    "\n",
    "- person_age: is the age of the person at the time of the loan.\n",
    "\n",
    "- person_income: is the yearly income of the person at the time of the loan.\n",
    "\n",
    "- person_home_ownership: is the type of ownership of the home.\n",
    "\n",
    "- person_emp_length: is the amount of time in years that person is employed.\n",
    "\n",
    "- loan_intent: is the aim of the loan.\n",
    "\n",
    "- loan_grade: is a classification system that involves assigning a quality score to a loan based on a borrower's credit history, quality of the \n",
    "collateral, and the likelihood of repayment of the principal and interest.\n",
    "\n",
    "- loan_amnt: is the dimension of the loan taken.\n",
    "\n",
    "- loan_int_rate: is the interest paid for the loan.\n",
    "\n",
    "- loan_status: is a dummy variable where 1 is default, 0 is not default.\n",
    "\n",
    "- loan_percent_income: is the ratio between the loan taken and the annual income.\n",
    "\n",
    "- cb_person_default_on_file: answers whether the person has defaulted before.\n",
    "\n",
    "- cb_person_cred_hist_length: represents the number of years of personal history since the first loan taken from that person."
   ]
  },
  {
   "cell_type": "code",
   "execution_count": 2,
   "id": "2bdd562a-9d90-48f3-a7f6-2b4bf5004786",
   "metadata": {},
   "outputs": [],
   "source": [
    "# To read into the csv file\n",
    "df = pd.read_csv(\"credit_risk_dataset.csv\")"
   ]
  },
  {
   "cell_type": "code",
   "execution_count": 3,
   "id": "f9273f3c-1442-4903-8f20-4970fd2a78c6",
   "metadata": {
    "scrolled": true
   },
   "outputs": [
    {
     "data": {
      "text/html": [
       "<div>\n",
       "<style scoped>\n",
       "    .dataframe tbody tr th:only-of-type {\n",
       "        vertical-align: middle;\n",
       "    }\n",
       "\n",
       "    .dataframe tbody tr th {\n",
       "        vertical-align: top;\n",
       "    }\n",
       "\n",
       "    .dataframe thead th {\n",
       "        text-align: right;\n",
       "    }\n",
       "</style>\n",
       "<table border=\"1\" class=\"dataframe\">\n",
       "  <thead>\n",
       "    <tr style=\"text-align: right;\">\n",
       "      <th></th>\n",
       "      <th>person_age</th>\n",
       "      <th>person_income</th>\n",
       "      <th>person_home_ownership</th>\n",
       "      <th>person_emp_length</th>\n",
       "      <th>loan_intent</th>\n",
       "      <th>loan_grade</th>\n",
       "      <th>loan_amnt</th>\n",
       "      <th>loan_int_rate</th>\n",
       "      <th>loan_status</th>\n",
       "      <th>loan_percent_income</th>\n",
       "      <th>cb_person_default_on_file</th>\n",
       "      <th>cb_person_cred_hist_length</th>\n",
       "    </tr>\n",
       "  </thead>\n",
       "  <tbody>\n",
       "    <tr>\n",
       "      <th>0</th>\n",
       "      <td>22</td>\n",
       "      <td>59000</td>\n",
       "      <td>RENT</td>\n",
       "      <td>123.0</td>\n",
       "      <td>PERSONAL</td>\n",
       "      <td>D</td>\n",
       "      <td>35000</td>\n",
       "      <td>16.02</td>\n",
       "      <td>1</td>\n",
       "      <td>0.59</td>\n",
       "      <td>Y</td>\n",
       "      <td>3</td>\n",
       "    </tr>\n",
       "    <tr>\n",
       "      <th>1</th>\n",
       "      <td>21</td>\n",
       "      <td>9600</td>\n",
       "      <td>OWN</td>\n",
       "      <td>5.0</td>\n",
       "      <td>EDUCATION</td>\n",
       "      <td>B</td>\n",
       "      <td>1000</td>\n",
       "      <td>11.14</td>\n",
       "      <td>0</td>\n",
       "      <td>0.10</td>\n",
       "      <td>N</td>\n",
       "      <td>2</td>\n",
       "    </tr>\n",
       "    <tr>\n",
       "      <th>2</th>\n",
       "      <td>25</td>\n",
       "      <td>9600</td>\n",
       "      <td>MORTGAGE</td>\n",
       "      <td>1.0</td>\n",
       "      <td>MEDICAL</td>\n",
       "      <td>C</td>\n",
       "      <td>5500</td>\n",
       "      <td>12.87</td>\n",
       "      <td>1</td>\n",
       "      <td>0.57</td>\n",
       "      <td>N</td>\n",
       "      <td>3</td>\n",
       "    </tr>\n",
       "    <tr>\n",
       "      <th>3</th>\n",
       "      <td>23</td>\n",
       "      <td>65500</td>\n",
       "      <td>RENT</td>\n",
       "      <td>4.0</td>\n",
       "      <td>MEDICAL</td>\n",
       "      <td>C</td>\n",
       "      <td>35000</td>\n",
       "      <td>15.23</td>\n",
       "      <td>1</td>\n",
       "      <td>0.53</td>\n",
       "      <td>N</td>\n",
       "      <td>2</td>\n",
       "    </tr>\n",
       "    <tr>\n",
       "      <th>4</th>\n",
       "      <td>24</td>\n",
       "      <td>54400</td>\n",
       "      <td>RENT</td>\n",
       "      <td>8.0</td>\n",
       "      <td>MEDICAL</td>\n",
       "      <td>C</td>\n",
       "      <td>35000</td>\n",
       "      <td>14.27</td>\n",
       "      <td>1</td>\n",
       "      <td>0.55</td>\n",
       "      <td>Y</td>\n",
       "      <td>4</td>\n",
       "    </tr>\n",
       "    <tr>\n",
       "      <th>5</th>\n",
       "      <td>21</td>\n",
       "      <td>9900</td>\n",
       "      <td>OWN</td>\n",
       "      <td>2.0</td>\n",
       "      <td>VENTURE</td>\n",
       "      <td>A</td>\n",
       "      <td>2500</td>\n",
       "      <td>7.14</td>\n",
       "      <td>1</td>\n",
       "      <td>0.25</td>\n",
       "      <td>N</td>\n",
       "      <td>2</td>\n",
       "    </tr>\n",
       "    <tr>\n",
       "      <th>6</th>\n",
       "      <td>26</td>\n",
       "      <td>77100</td>\n",
       "      <td>RENT</td>\n",
       "      <td>8.0</td>\n",
       "      <td>EDUCATION</td>\n",
       "      <td>B</td>\n",
       "      <td>35000</td>\n",
       "      <td>12.42</td>\n",
       "      <td>1</td>\n",
       "      <td>0.45</td>\n",
       "      <td>N</td>\n",
       "      <td>3</td>\n",
       "    </tr>\n",
       "    <tr>\n",
       "      <th>7</th>\n",
       "      <td>24</td>\n",
       "      <td>78956</td>\n",
       "      <td>RENT</td>\n",
       "      <td>5.0</td>\n",
       "      <td>MEDICAL</td>\n",
       "      <td>B</td>\n",
       "      <td>35000</td>\n",
       "      <td>11.11</td>\n",
       "      <td>1</td>\n",
       "      <td>0.44</td>\n",
       "      <td>N</td>\n",
       "      <td>4</td>\n",
       "    </tr>\n",
       "    <tr>\n",
       "      <th>8</th>\n",
       "      <td>24</td>\n",
       "      <td>83000</td>\n",
       "      <td>RENT</td>\n",
       "      <td>8.0</td>\n",
       "      <td>PERSONAL</td>\n",
       "      <td>A</td>\n",
       "      <td>35000</td>\n",
       "      <td>8.90</td>\n",
       "      <td>1</td>\n",
       "      <td>0.42</td>\n",
       "      <td>N</td>\n",
       "      <td>2</td>\n",
       "    </tr>\n",
       "    <tr>\n",
       "      <th>9</th>\n",
       "      <td>21</td>\n",
       "      <td>10000</td>\n",
       "      <td>OWN</td>\n",
       "      <td>6.0</td>\n",
       "      <td>VENTURE</td>\n",
       "      <td>D</td>\n",
       "      <td>1600</td>\n",
       "      <td>14.74</td>\n",
       "      <td>1</td>\n",
       "      <td>0.16</td>\n",
       "      <td>N</td>\n",
       "      <td>3</td>\n",
       "    </tr>\n",
       "  </tbody>\n",
       "</table>\n",
       "</div>"
      ],
      "text/plain": [
       "   person_age  person_income person_home_ownership  person_emp_length  \\\n",
       "0          22          59000                  RENT              123.0   \n",
       "1          21           9600                   OWN                5.0   \n",
       "2          25           9600              MORTGAGE                1.0   \n",
       "3          23          65500                  RENT                4.0   \n",
       "4          24          54400                  RENT                8.0   \n",
       "5          21           9900                   OWN                2.0   \n",
       "6          26          77100                  RENT                8.0   \n",
       "7          24          78956                  RENT                5.0   \n",
       "8          24          83000                  RENT                8.0   \n",
       "9          21          10000                   OWN                6.0   \n",
       "\n",
       "  loan_intent loan_grade  loan_amnt  loan_int_rate  loan_status  \\\n",
       "0    PERSONAL          D      35000          16.02            1   \n",
       "1   EDUCATION          B       1000          11.14            0   \n",
       "2     MEDICAL          C       5500          12.87            1   \n",
       "3     MEDICAL          C      35000          15.23            1   \n",
       "4     MEDICAL          C      35000          14.27            1   \n",
       "5     VENTURE          A       2500           7.14            1   \n",
       "6   EDUCATION          B      35000          12.42            1   \n",
       "7     MEDICAL          B      35000          11.11            1   \n",
       "8    PERSONAL          A      35000           8.90            1   \n",
       "9     VENTURE          D       1600          14.74            1   \n",
       "\n",
       "   loan_percent_income cb_person_default_on_file  cb_person_cred_hist_length  \n",
       "0                 0.59                         Y                           3  \n",
       "1                 0.10                         N                           2  \n",
       "2                 0.57                         N                           3  \n",
       "3                 0.53                         N                           2  \n",
       "4                 0.55                         Y                           4  \n",
       "5                 0.25                         N                           2  \n",
       "6                 0.45                         N                           3  \n",
       "7                 0.44                         N                           4  \n",
       "8                 0.42                         N                           2  \n",
       "9                 0.16                         N                           3  "
      ]
     },
     "execution_count": 3,
     "metadata": {},
     "output_type": "execute_result"
    }
   ],
   "source": [
    "df.head(10) #shows the first 10 rows of the dataset. i get to see an overview of what the dataset looks like."
   ]
  },
  {
   "cell_type": "code",
   "execution_count": 4,
   "id": "89737da2-de8b-4dc3-a7cd-566ed69e92d0",
   "metadata": {},
   "outputs": [
    {
     "data": {
      "text/plain": [
       "(32581, 12)"
      ]
     },
     "execution_count": 4,
     "metadata": {},
     "output_type": "execute_result"
    }
   ],
   "source": [
    "df.shape #to see the dimensionality of the dataset"
   ]
  },
  {
   "cell_type": "markdown",
   "id": "f0ec2bed-6fe2-475e-93a8-164dbb8cb6c5",
   "metadata": {},
   "source": [
    "## Performing some exploratory data analysis on the dataset\n",
    "Exploratory Data Analysis (EDA) is a crucial step in understanding the structure and relationships within a dataset. It involves summarizing the dataset, checking for missing values, visualizing relationships between variables, and gaining insights that help inform modeling decisions"
   ]
  },
  {
   "cell_type": "code",
   "execution_count": 5,
   "id": "d0eed8aa-cec0-4aee-823c-eb14435d7914",
   "metadata": {},
   "outputs": [
    {
     "name": "stdout",
     "output_type": "stream",
     "text": [
      "<class 'pandas.core.frame.DataFrame'>\n",
      "RangeIndex: 32581 entries, 0 to 32580\n",
      "Data columns (total 12 columns):\n",
      " #   Column                      Non-Null Count  Dtype  \n",
      "---  ------                      --------------  -----  \n",
      " 0   person_age                  32581 non-null  int64  \n",
      " 1   person_income               32581 non-null  int64  \n",
      " 2   person_home_ownership       32581 non-null  object \n",
      " 3   person_emp_length           31686 non-null  float64\n",
      " 4   loan_intent                 32581 non-null  object \n",
      " 5   loan_grade                  32581 non-null  object \n",
      " 6   loan_amnt                   32581 non-null  int64  \n",
      " 7   loan_int_rate               29465 non-null  float64\n",
      " 8   loan_status                 32581 non-null  int64  \n",
      " 9   loan_percent_income         32581 non-null  float64\n",
      " 10  cb_person_default_on_file   32581 non-null  object \n",
      " 11  cb_person_cred_hist_length  32581 non-null  int64  \n",
      "dtypes: float64(3), int64(5), object(4)\n",
      "memory usage: 3.0+ MB\n"
     ]
    }
   ],
   "source": [
    "df.info() # to view data types of each columns,non null and count"
   ]
  },
  {
   "cell_type": "code",
   "execution_count": 6,
   "id": "aa1e3598-63e9-4179-a469-95dcee91488a",
   "metadata": {},
   "outputs": [
    {
     "data": {
      "text/html": [
       "<div>\n",
       "<style scoped>\n",
       "    .dataframe tbody tr th:only-of-type {\n",
       "        vertical-align: middle;\n",
       "    }\n",
       "\n",
       "    .dataframe tbody tr th {\n",
       "        vertical-align: top;\n",
       "    }\n",
       "\n",
       "    .dataframe thead th {\n",
       "        text-align: right;\n",
       "    }\n",
       "</style>\n",
       "<table border=\"1\" class=\"dataframe\">\n",
       "  <thead>\n",
       "    <tr style=\"text-align: right;\">\n",
       "      <th></th>\n",
       "      <th>person_age</th>\n",
       "      <th>person_income</th>\n",
       "      <th>person_emp_length</th>\n",
       "      <th>loan_amnt</th>\n",
       "      <th>loan_int_rate</th>\n",
       "      <th>loan_status</th>\n",
       "      <th>loan_percent_income</th>\n",
       "      <th>cb_person_cred_hist_length</th>\n",
       "    </tr>\n",
       "  </thead>\n",
       "  <tbody>\n",
       "    <tr>\n",
       "      <th>count</th>\n",
       "      <td>32581.000000</td>\n",
       "      <td>3.258100e+04</td>\n",
       "      <td>31686.000000</td>\n",
       "      <td>32581.000000</td>\n",
       "      <td>29465.000000</td>\n",
       "      <td>32581.000000</td>\n",
       "      <td>32581.000000</td>\n",
       "      <td>32581.000000</td>\n",
       "    </tr>\n",
       "    <tr>\n",
       "      <th>mean</th>\n",
       "      <td>27.734600</td>\n",
       "      <td>6.607485e+04</td>\n",
       "      <td>4.789686</td>\n",
       "      <td>9589.371106</td>\n",
       "      <td>11.011695</td>\n",
       "      <td>0.218164</td>\n",
       "      <td>0.170203</td>\n",
       "      <td>5.804211</td>\n",
       "    </tr>\n",
       "    <tr>\n",
       "      <th>std</th>\n",
       "      <td>6.348078</td>\n",
       "      <td>6.198312e+04</td>\n",
       "      <td>4.142630</td>\n",
       "      <td>6322.086646</td>\n",
       "      <td>3.240459</td>\n",
       "      <td>0.413006</td>\n",
       "      <td>0.106782</td>\n",
       "      <td>4.055001</td>\n",
       "    </tr>\n",
       "    <tr>\n",
       "      <th>min</th>\n",
       "      <td>20.000000</td>\n",
       "      <td>4.000000e+03</td>\n",
       "      <td>0.000000</td>\n",
       "      <td>500.000000</td>\n",
       "      <td>5.420000</td>\n",
       "      <td>0.000000</td>\n",
       "      <td>0.000000</td>\n",
       "      <td>2.000000</td>\n",
       "    </tr>\n",
       "    <tr>\n",
       "      <th>25%</th>\n",
       "      <td>23.000000</td>\n",
       "      <td>3.850000e+04</td>\n",
       "      <td>2.000000</td>\n",
       "      <td>5000.000000</td>\n",
       "      <td>7.900000</td>\n",
       "      <td>0.000000</td>\n",
       "      <td>0.090000</td>\n",
       "      <td>3.000000</td>\n",
       "    </tr>\n",
       "    <tr>\n",
       "      <th>50%</th>\n",
       "      <td>26.000000</td>\n",
       "      <td>5.500000e+04</td>\n",
       "      <td>4.000000</td>\n",
       "      <td>8000.000000</td>\n",
       "      <td>10.990000</td>\n",
       "      <td>0.000000</td>\n",
       "      <td>0.150000</td>\n",
       "      <td>4.000000</td>\n",
       "    </tr>\n",
       "    <tr>\n",
       "      <th>75%</th>\n",
       "      <td>30.000000</td>\n",
       "      <td>7.920000e+04</td>\n",
       "      <td>7.000000</td>\n",
       "      <td>12200.000000</td>\n",
       "      <td>13.470000</td>\n",
       "      <td>0.000000</td>\n",
       "      <td>0.230000</td>\n",
       "      <td>8.000000</td>\n",
       "    </tr>\n",
       "    <tr>\n",
       "      <th>max</th>\n",
       "      <td>144.000000</td>\n",
       "      <td>6.000000e+06</td>\n",
       "      <td>123.000000</td>\n",
       "      <td>35000.000000</td>\n",
       "      <td>23.220000</td>\n",
       "      <td>1.000000</td>\n",
       "      <td>0.830000</td>\n",
       "      <td>30.000000</td>\n",
       "    </tr>\n",
       "  </tbody>\n",
       "</table>\n",
       "</div>"
      ],
      "text/plain": [
       "         person_age  person_income  person_emp_length     loan_amnt  \\\n",
       "count  32581.000000   3.258100e+04       31686.000000  32581.000000   \n",
       "mean      27.734600   6.607485e+04           4.789686   9589.371106   \n",
       "std        6.348078   6.198312e+04           4.142630   6322.086646   \n",
       "min       20.000000   4.000000e+03           0.000000    500.000000   \n",
       "25%       23.000000   3.850000e+04           2.000000   5000.000000   \n",
       "50%       26.000000   5.500000e+04           4.000000   8000.000000   \n",
       "75%       30.000000   7.920000e+04           7.000000  12200.000000   \n",
       "max      144.000000   6.000000e+06         123.000000  35000.000000   \n",
       "\n",
       "       loan_int_rate   loan_status  loan_percent_income  \\\n",
       "count   29465.000000  32581.000000         32581.000000   \n",
       "mean       11.011695      0.218164             0.170203   \n",
       "std         3.240459      0.413006             0.106782   \n",
       "min         5.420000      0.000000             0.000000   \n",
       "25%         7.900000      0.000000             0.090000   \n",
       "50%        10.990000      0.000000             0.150000   \n",
       "75%        13.470000      0.000000             0.230000   \n",
       "max        23.220000      1.000000             0.830000   \n",
       "\n",
       "       cb_person_cred_hist_length  \n",
       "count                32581.000000  \n",
       "mean                     5.804211  \n",
       "std                      4.055001  \n",
       "min                      2.000000  \n",
       "25%                      3.000000  \n",
       "50%                      4.000000  \n",
       "75%                      8.000000  \n",
       "max                     30.000000  "
      ]
     },
     "execution_count": 6,
     "metadata": {},
     "output_type": "execute_result"
    }
   ],
   "source": [
    "df.describe() # a summary statistics of the columns in the dataset"
   ]
  },
  {
   "cell_type": "code",
   "execution_count": 7,
   "id": "b2ff03c5-bdb1-413e-a016-55ed716eef54",
   "metadata": {
    "scrolled": true
   },
   "outputs": [
    {
     "data": {
      "image/png": "[encoded data removed]",
      "text/plain": [
       "<Figure size 640x480 with 1 Axes>"
      ]
     },
     "metadata": {},
     "output_type": "display_data"
    }
   ],
   "source": [
    "\n",
    "#  A histogram to visualize distribution of numerical feature\n",
    "plt.hist(df['person_emp_length'], bins=20, edgecolor='black')\n",
    "\n",
    "# Add titles and labels\n",
    "plt.title('Employment Length Histogram')\n",
    "plt.xlabel('Years')\n",
    "plt.ylabel('Frequency')\n",
    "\n",
    "# Show the plot\n",
    "plt.show()\n"
   ]
  },
  {
   "cell_type": "markdown",
   "id": "ee17bb9d-28e4-4c14-a4d5-6134ced6cca2",
   "metadata": {},
   "source": [
    "Having noticed some missing datas in the \"persons employment length column and loan interest rate, i will be filling them up using the mean for the persons employment lenght. The mean provides an average number of years that people in this company have been employed.This information to some extent can influence their eligibility on accessing loan. whereas for the loan interest rate colunm, its best to assign the missing rates as same with the mean of those on the same loan grade using the loan grade column. "
   ]
  },
  {
   "cell_type": "markdown",
   "id": "4aa6ec72-4308-4865-9f53-c82e84e6e0f2",
   "metadata": {},
   "source": [
    "## Data Preprocessing"
   ]
  },
  {
   "cell_type": "code",
   "execution_count": 8,
   "id": "4f3b87d2-1485-41ea-9e78-e08c0373e3c8",
   "metadata": {},
   "outputs": [],
   "source": [
    "# A function that will handle missing data and perform encoding\n",
    "\n",
    "def data_wrangling(dataframe):\n",
    "    \"\"\"\n",
    "    Cleans and preprocesses a given dataframe by handling missing values \n",
    "    and encoding categorical variables.\n",
    "\n",
    "    Steps performed:\n",
    "    1. Fills missing values in the 'person_emp_length' column with the column's mean.\n",
    "    2. Fills missing values in the 'loan_int_rate' column using the mean of \n",
    "       the corresponding 'loan_grade' group.\n",
    "    3. Converts categorical variables into dummy/one-hot encoded variables.\n",
    "\n",
    "    Parameters:\n",
    "    dataframe: pd.DataFrame\n",
    "        The input DataFrame containing the raw data.\n",
    "\n",
    "    Returns:\n",
    "    pd.DataFrame\n",
    "        A processed DataFrame with missing values filled and categorical variables encoded.\n",
    "    \"\"\"\n",
    "\n",
    "    df['person_emp_length'] = df['person_emp_length'].fillna(df['person_emp_length'].mean())\n",
    "    df['loan_int_rate'] = df.groupby('loan_grade')['loan_int_rate'].transform(lambda x: x.fillna(x.mean()))\n",
    "    df_encoded = pd.get_dummies(df, dtype = 'float')\n",
    "    return df_encoded"
   ]
  },
  {
   "cell_type": "code",
   "execution_count": 9,
   "id": "1e8a99d1-0ccc-40f9-affa-5f18e583789c",
   "metadata": {},
   "outputs": [],
   "source": [
    "# assigned the returned encoded dataframe to df_encoded\n",
    "df_encoded = data_wrangling(df)"
   ]
  },
  {
   "cell_type": "code",
   "execution_count": 10,
   "id": "bf022b0a-4ba5-421c-8c55-9af9cff04c45",
   "metadata": {
    "scrolled": true
   },
   "outputs": [
    {
     "data": {
      "text/plain": [
       "Index(['person_age', 'person_income', 'person_emp_length', 'loan_amnt',\n",
       "       'loan_int_rate', 'loan_status', 'loan_percent_income',\n",
       "       'cb_person_cred_hist_length', 'person_home_ownership_MORTGAGE',\n",
       "       'person_home_ownership_OTHER', 'person_home_ownership_OWN',\n",
       "       'person_home_ownership_RENT', 'loan_intent_DEBTCONSOLIDATION',\n",
       "       'loan_intent_EDUCATION', 'loan_intent_HOMEIMPROVEMENT',\n",
       "       'loan_intent_MEDICAL', 'loan_intent_PERSONAL', 'loan_intent_VENTURE',\n",
       "       'loan_grade_A', 'loan_grade_B', 'loan_grade_C', 'loan_grade_D',\n",
       "       'loan_grade_E', 'loan_grade_F', 'loan_grade_G',\n",
       "       'cb_person_default_on_file_N', 'cb_person_default_on_file_Y'],\n",
       "      dtype='object')"
      ]
     },
     "execution_count": 10,
     "metadata": {},
     "output_type": "execute_result"
    }
   ],
   "source": [
    "df_encoded.columns"
   ]
  },
  {
   "cell_type": "code",
   "execution_count": 11,
   "id": "e19415cc-9ef2-4759-b359-0b808559c956",
   "metadata": {
    "scrolled": true
   },
   "outputs": [
    {
     "name": "stdout",
     "output_type": "stream",
     "text": [
      "<class 'pandas.core.frame.DataFrame'>\n",
      "RangeIndex: 32581 entries, 0 to 32580\n",
      "Data columns (total 27 columns):\n",
      " #   Column                          Non-Null Count  Dtype  \n",
      "---  ------                          --------------  -----  \n",
      " 0   person_age                      32581 non-null  int64  \n",
      " 1   person_income                   32581 non-null  int64  \n",
      " 2   person_emp_length               32581 non-null  float64\n",
      " 3   loan_amnt                       32581 non-null  int64  \n",
      " 4   loan_int_rate                   32581 non-null  float64\n",
      " 5   loan_status                     32581 non-null  int64  \n",
      " 6   loan_percent_income             32581 non-null  float64\n",
      " 7   cb_person_cred_hist_length      32581 non-null  int64  \n",
      " 8   person_home_ownership_MORTGAGE  32581 non-null  float64\n",
      " 9   person_home_ownership_OTHER     32581 non-null  float64\n",
      " 10  person_home_ownership_OWN       32581 non-null  float64\n",
      " 11  person_home_ownership_RENT      32581 non-null  float64\n",
      " 12  loan_intent_DEBTCONSOLIDATION   32581 non-null  float64\n",
      " 13  loan_intent_EDUCATION           32581 non-null  float64\n",
      " 14  loan_intent_HOMEIMPROVEMENT     32581 non-null  float64\n",
      " 15  loan_intent_MEDICAL             32581 non-null  float64\n",
      " 16  loan_intent_PERSONAL            32581 non-null  float64\n",
      " 17  loan_intent_VENTURE             32581 non-null  float64\n",
      " 18  loan_grade_A                    32581 non-null  float64\n",
      " 19  loan_grade_B                    32581 non-null  float64\n",
      " 20  loan_grade_C                    32581 non-null  float64\n",
      " 21  loan_grade_D                    32581 non-null  float64\n",
      " 22  loan_grade_E                    32581 non-null  float64\n",
      " 23  loan_grade_F                    32581 non-null  float64\n",
      " 24  loan_grade_G                    32581 non-null  float64\n",
      " 25  cb_person_default_on_file_N     32581 non-null  float64\n",
      " 26  cb_person_default_on_file_Y     32581 non-null  float64\n",
      "dtypes: float64(22), int64(5)\n",
      "memory usage: 6.7 MB\n"
     ]
    }
   ],
   "source": [
    "df_encoded.info()"
   ]
  },
  {
   "cell_type": "markdown",
   "id": "d0fa1e39-d9f5-4c31-8734-159fb9e97738",
   "metadata": {},
   "source": [
    "## Next we check for imbalance\n",
    "\n",
    "In classification problems, imbalanced datasets can significantly affect a model's performance, as the model might become biased toward the majority class. To address this, I analyzed the target variable's distribution to check for imbalance. Identifying an imbalance is critical as it guides the choice of strategies like resampling, class weighting, or advanced techniques to ensure the model achieves better accuracy and fairness across all classes."
   ]
  },
  {
   "cell_type": "code",
   "execution_count": 12,
   "id": "f6195e31-c89a-4640-a60d-936296c8cc6d",
   "metadata": {},
   "outputs": [
    {
     "data": {
      "image/png": "[encoded data removed]",
      "text/plain": [
       "<Figure size 800x400 with 1 Axes>"
      ]
     },
     "metadata": {},
     "output_type": "display_data"
    }
   ],
   "source": [
    "# A plot that display the distribution of the two classes in the target variable.\n",
    "plt.figure(figsize = (8, 4))\n",
    "sns.countplot(x = 'loan_status', data = df)\n",
    "plt.show()"
   ]
  },
  {
   "cell_type": "code",
   "execution_count": 13,
   "id": "e16fc176-99b0-49df-a6c2-5815a501b939",
   "metadata": {},
   "outputs": [
    {
     "data": {
      "text/plain": [
       "Counter({0: 25473, 1: 7108})"
      ]
     },
     "execution_count": 13,
     "metadata": {},
     "output_type": "execute_result"
    }
   ],
   "source": [
    "Counter(df_encoded[\"loan_status\"])"
   ]
  },
  {
   "cell_type": "markdown",
   "id": "cc3b45de-81b3-4658-89f4-6f65fe1213fb",
   "metadata": {},
   "source": [
    "##  Model Building\n",
    "\n",
    "We will define a function that prepares a dataset, handles class imbalance using SMOTE, splits the data into training and testing sets, scales the features, trains the specified model, and evaluates its performance."
   ]
  },
  {
   "cell_type": "code",
   "execution_count": 14,
   "id": "fbf9f51e-7d8a-441c-995e-e525be4c57d8",
   "metadata": {},
   "outputs": [],
   "source": [
    "# A function to build the model\n",
    "def build_model(model, df, target_variable):\n",
    "    \"\"\"\n",
    "    Prepares a dataset, handles class imbalance using SMOTE, splits the data into \n",
    "    training and testing sets, scales the features, trains the specified model, \n",
    "    and evaluates its performance.\n",
    "\n",
    "    Parameters:\n",
    "    ----------\n",
    "    model : object\n",
    "        The machine learning model to be trained, implementing the `fit` and `predict` methods.\n",
    "    df : pandas.DataFrame\n",
    "        The dataset containing features and the target variable.\n",
    "    target_variable : str\n",
    "        The name of the target variable column in `df`.\n",
    "\n",
    "    Returns:\n",
    "    -------\n",
    "    report : str\n",
    "        Classification report summarizing the model's performance on the test set, \n",
    "        including precision, recall, F1-score, and support for each class.\n",
    "    X_train_scaled : numpy.ndarray\n",
    "        The scaled feature set for the training data.\n",
    "    y_train : pandas.Series or numpy.ndarray\n",
    "        The corresponding labels for the training data.\n",
    "\n",
    "    Notes:\n",
    "    -----\n",
    "    - Handles class imbalance using the SMOTE (Synthetic Minority Oversampling Technique) algorithm \n",
    "      if the ratio of majority to minority class exceeds 1.3.\n",
    "    - Scales features using `StandardScaler` to normalize the data for better model performance.\n",
    "    - Splits the dataset into training and testing sets with an 80-20 split.\n",
    "\n",
    "    Example:\n",
    "    -------\n",
    "    >>> from sklearn.ensemble import RandomForestClassifier\n",
    "    >>> model = RandomForestClassifier(random_state=42)\n",
    "    >>> report, X_train_scaled, y_train = build_model(model, df, 'target')\n",
    "    >>> print(report)\n",
    "    \"\"\"\n",
    "    \n",
    "    X = df.drop(target_variable, axis = 1) # features\n",
    "    y = df[target_variable] #labels\n",
    "    if Counter(y)[0] / Counter(y)[1] > 1.3:\n",
    "        over_sample = SMOTE(sampling_strategy = 1, random_state = 42, k_neighbors = 3) # initialise SMOTE object with these parameters\n",
    "        X, y = over_sample.fit_resample(X, y) # Apply SMOTE to generate synthetic data for the minority class\n",
    "    # splitting data into test and train sets\n",
    "    X_train, X_test, y_train, y_test = train_test_split(X, y, test_size = 0.2, random_state = 42)\n",
    "    # initialize scaler,and applies the scaling to the training and testing  dataset\n",
    "    scaler = StandardScaler()\n",
    "    X_train_scaled = scaler.fit_transform(X_train)\n",
    "    X_test_scaled = scaler.transform(X_test)\n",
    "    # initialize model for regression problem andfit train dataset to model for training\n",
    "    model.fit(X_train_scaled, y_train)\n",
    "    y_pred = model.predict(X_test_scaled)\n",
    "    report = classification_report(y_test, y_pred)\n",
    "    return report, X_train_scaled, y_train"
   ]
  },
  {
   "cell_type": "markdown",
   "id": "3cd9cb97-7f0d-4824-8900-5730156cbb76",
   "metadata": {},
   "source": [
    "## Evaluating the model performance."
   ]
  },
  {
   "cell_type": "code",
   "execution_count": 15,
   "id": "0ec20cb0-ec6e-4508-bde1-f04b0482ea9a",
   "metadata": {},
   "outputs": [],
   "source": [
    "# first we will initialise logistic regression model\n",
    "lr = LogisticRegression()"
   ]
  },
  {
   "cell_type": "code",
   "execution_count": 16,
   "id": "2f2e3c59-5444-4c8a-9e33-d5a013ff7f22",
   "metadata": {},
   "outputs": [],
   "source": [
    "# call the function that builds and evaluate the model, then save the output in report1.\n",
    "report1, X_train_scaled, y_train = build_model(lr, df_encoded, \"loan_status\")\n"
   ]
  },
  {
   "cell_type": "code",
   "execution_count": 17,
   "id": "4654a78c-cc1f-4796-8fdc-4a876b2be6a5",
   "metadata": {},
   "outputs": [
    {
     "name": "stdout",
     "output_type": "stream",
     "text": [
      "              precision    recall  f1-score   support\n",
      "\n",
      "           0       0.79      0.82      0.81      5094\n",
      "           1       0.82      0.79      0.80      5096\n",
      "\n",
      "    accuracy                           0.81     10190\n",
      "   macro avg       0.81      0.81      0.81     10190\n",
      "weighted avg       0.81      0.81      0.81     10190\n",
      "\n"
     ]
    }
   ],
   "source": [
    "print(report1)"
   ]
  },
  {
   "cell_type": "markdown",
   "id": "b1b92820-2f62-4a0e-8f19-222f96c603fa",
   "metadata": {},
   "source": [
    "## Insight form the classification report\n",
    "**Class 0 (negative class):**\n",
    "\n",
    "- Precision = `0.79`: Out of all predicted negatives, `79%` were correct.\n",
    "- Recall = `0.82`: The model correctly identified `82%` of the actual negatives.\n",
    "- F1-Score = `0.81`: A balance between precision and recall.\n",
    "- Support = `5094`: There were `5094` actual negatives in the dataset.\n",
    "\n",
    "**Class 1 (positive class):**\n",
    "\n",
    "- Precision = `0.82`: Out of all predicted positives, `82%` were correct.\n",
    "- Recall = `0.79`: The model correctly identified `79%` of the actual positives.\n",
    "- F1-Score = `0.80`: A balance between precision and recall.\n",
    "- Support = `5096`: There were `5096` actual positives in the dataset.\n",
    "\n",
    "#### Overall Metrics\n",
    "\n",
    "**Accuracy** = `0.81`: The model correctly classified `81%` of all instances.\n",
    "\n",
    "Accuracy = `Correct Predictions/Total Predictions`\n",
    "\n",
    " \n",
    "#### Macro Average\n",
    "\n",
    "Averages the precision, recall, and F1-score across classes equally, giving each class the same weight.\n",
    "\n",
    "In this case, Precision = Recall = F1 = `0.81`.\n",
    "#### Weighted Average:\n",
    "\n",
    "Averages the metrics but gives more weight to classes with more instances (based on `support`).\n",
    "\n",
    "Here, it matches the macro average because both classes have roughly equal support.\n",
    "### Key Insights\n",
    "**Balanced Performance:** The precision, recall, and F1-scores are similar for both classes, indicating balanced performance.\n",
    "\n",
    "**Good Overall Accuracy:** With 81% accuracy, the model performs well but has room for improvement.\n",
    "\n",
    "**Trade-offs:** There’s a slight trade-off between precision and recall for both classes. For example, the model is slightly better at avoiding false negatives for class 0 and false positives for class 1."
   ]
  },
  {
   "cell_type": "markdown",
   "id": "60482e3a-d0b3-4bc9-8678-b56707d40aad",
   "metadata": {},
   "source": [
    "## Next Steps: Improving Accuracy with Support Vector Machines (SVM)\n",
    "To further enhance the model's performance and accuracy, the next logical step is to experiment with Support Vector Machines (SVM). SVMs are powerful algorithms, especially for binary classification problems, as they aim to find the optimal hyperplane that best separates the data into classes.\n",
    "\n",
    "#### Why Use SVM?\n",
    "- Effective in High Dimensional Spaces: SVM performs well even when the number of features is greater than the number of samples.\n",
    "- Robust to Outliers: By using kernels and soft margins, SVM can handle outliers and still create a reliable decision boundary.\n",
    "- Flexibility with Kernels: SVM can utilize linear or non-linear kernels (e.g., RBF, polynomial), allowing it to capture complex relationships in data.\n",
    "- Focus on Support Vectors: Instead of focusing on all the data points, SVM focuses on the critical data points (support vectors), which define the decision boundary.\n",
    "  \n",
    "Lets Implement SVC, calling the `build_model` function with svm as argurment."
   ]
  },
  {
   "cell_type": "code",
   "execution_count": 18,
   "id": "1c24ae6e-a262-4ca1-b9d9-d5bba1ff60dc",
   "metadata": {},
   "outputs": [],
   "source": [
    "# initialise support vector classifier\n",
    "svm = SVC()"
   ]
  },
  {
   "cell_type": "code",
   "execution_count": 19,
   "id": "04517bb1-152f-483a-85ba-868cb44037ab",
   "metadata": {},
   "outputs": [],
   "source": [
    "report2, X_train_scaled, y_train = build_model(svm, df_encoded, \"loan_status\")"
   ]
  },
  {
   "cell_type": "code",
   "execution_count": 20,
   "id": "81c9804d-98d8-48f9-8125-c8ea7a1d4f73",
   "metadata": {},
   "outputs": [
    {
     "name": "stdout",
     "output_type": "stream",
     "text": [
      "              precision    recall  f1-score   support\n",
      "\n",
      "           0       0.88      0.97      0.93      5094\n",
      "           1       0.97      0.87      0.92      5096\n",
      "\n",
      "    accuracy                           0.92     10190\n",
      "   macro avg       0.93      0.92      0.92     10190\n",
      "weighted avg       0.93      0.92      0.92     10190\n",
      "\n"
     ]
    }
   ],
   "source": [
    "print(report2)"
   ]
  },
  {
   "cell_type": "markdown",
   "id": "55d2e664-814f-4415-9719-3eb952c05f87",
   "metadata": {},
   "source": [
    "## Key Improvements\n",
    "- Higher Recall for Class 0: The model is now better at identifying negatives while maintaining strong precision.\n",
    "- Improved F1-Scores: The F1-scores indicate a better balance between precision and recall, especially for the minority class.\n",
    "- Increased Accuracy: Overall accuracy has improved from 81% to 92%, reflecting the effectiveness of SVM in separating the classes.\n",
    "\n",
    "Using SVM has substantially improved the model's ability to classify both classes, especially by reducing misclassifications. The enhanced precision and recall make this model a reliable choice for applications requiring both sensitivity and specificity."
   ]
  },
  {
   "cell_type": "code",
   "execution_count": 21,
   "id": "5d18a609-c373-490e-bc82-dd96300b4366",
   "metadata": {},
   "outputs": [],
   "source": [
    "# # Compute permutation importance\n",
    "# from sklearn.inspection import permutation_importance\n",
    "# results = permutation_importance(svm, X_train_scaled, y_train, n_repeats=3, random_state=42)\n",
    "\n",
    "# for i, importance in enumerate(results.importances_mean):\n",
    "#     print(f\"Feature {i+1}: {importance}\")"
   ]
  },
  {
   "cell_type": "code",
   "execution_count": null,
   "id": "a102f62b-9a99-41d9-9692-5088385da87f",
   "metadata": {},
   "outputs": [],
   "source": [
    "# Importing the pickle library\n",
    "import pickle\n",
    "\n",
    "# Save the model just like we would a Python file\n",
    "model_save_path = \"svm_model.pkl\"\n",
    "with open(model_save_path,'wb') as file:\n",
    "    pickle.dump(svm,file)"
   ]
  },
  {
   "cell_type": "markdown",
   "id": "e7406c96-3b92-498f-8efa-ba412b59224b",
   "metadata": {},
   "source": [
    "# Conclusion\n",
    "In this notebook, we developed and evaluated a robust classification model to address the given problem statement. Here's a summary of the steps and key outcomes:\n",
    "\n",
    "### Data Preparation\n",
    "We began by cleaning the dataset, handling class imbalances using SMOTE, and scaling the features to ensure compatibility with the SVM model.\n",
    "\n",
    "### Model Selection and Training\n",
    "After evaluating multiple approaches, we used an SVM classifier to achieve higher accuracy. The SVM model demonstrated strong performance with an overall accuracy of 92%, and a balanced precision-recall score, highlighting its ability to generalize well across both classes.\n",
    "\n",
    "### Model Saving\n",
    "The trained SVM model was saved as a serialized object, making it ready for deployment. This allows for seamless integration into real-world applications where accurate predictions are critical.\n",
    "\n",
    "## Next Steps\n",
    "### Model Deployment\n",
    "The saved model can now be deployed into a production environment using APIs, dashboards, or other interfaces to provide real-time predictions.\n",
    "### Further Optimization\n",
    "Additional hyperparameter tuning or testing with ensemble methods may further enhance the model's performance.\n",
    "### Domain-Specific Insights\n",
    "Use the insights gained from the feature analysis to guide decision-making and refine the problem-solving approach.\n",
    "With this completed workflow, we have established a strong foundation for solving classification problems in this domain."
   ]
  },
  {
   "cell_type": "code",
   "execution_count": null,
   "id": "0eda4f3c-6f39-4e71-a3a8-4fe41bf511b6",
   "metadata": {},
   "outputs": [],
   "source": []
  }
 ],
 "metadata": {
  "kernelspec": {
   "display_name": "Python 3 (ipykernel)",
   "language": "python",
   "name": "python3"
  },
  "language_info": {
   "codemirror_mode": {
    "name": "ipython",
    "version": 3
   },
   "file_extension": ".py",
   "mimetype": "text/x-python",
   "name": "python",
   "nbconvert_exporter": "python",
   "pygments_lexer": "ipython3",
   "version": "3.12.4"
  }
 },
 "nbformat": 4,
 "nbformat_minor": 5
}
